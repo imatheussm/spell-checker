{
 "cells": [
  {
   "cell_type": "markdown",
   "metadata": {},
   "source": [
    "# `spell_checker`"
   ]
  },
  {
   "cell_type": "markdown",
   "metadata": {},
   "source": [
    "This is a simple `.ipynb` file meant to quickly demonstrate the capabilities of this module."
   ]
  },
  {
   "cell_type": "markdown",
   "metadata": {},
   "source": [
    "First of all, we must add the current directory to `PATH` in order to import the `spell_checker` module:"
   ]
  },
  {
   "cell_type": "code",
   "execution_count": 1,
   "metadata": {},
   "outputs": [],
   "source": [
    "from os import getcwd\n",
    "from sys import path as sys_path\n",
    "sys_path.append(getcwd())\n",
    "from spell_checker import *"
   ]
  },
  {
   "cell_type": "markdown",
   "metadata": {},
   "source": [
    "Then, we must import modules of interest to perform this demonstration properly:"
   ]
  },
  {
   "cell_type": "code",
   "execution_count": 2,
   "metadata": {},
   "outputs": [],
   "source": [
    "from time import time         # Timestamp\n",
    "from random import random     # Random number generator\n",
    "from gc import collect        # Garbage Collector"
   ]
  },
  {
   "cell_type": "markdown",
   "metadata": {},
   "source": [
    "With that out of the way, we can get down to business:"
   ]
  },
  {
   "cell_type": "markdown",
   "metadata": {},
   "source": [
    "## 1. Basic testing"
   ]
  },
  {
   "cell_type": "markdown",
   "metadata": {},
   "source": [
    "### 1.1. `CharacterTree`"
   ]
  },
  {
   "cell_type": "code",
   "execution_count": 3,
   "metadata": {},
   "outputs": [
    {
     "name": "stdout",
     "output_type": "stream",
     "text": [
      "Árvore criada com as palavras \"abacate\", \"mamão\",\"maniçoba\" e \"queijo\" nela.\n",
      "Há maniçoba nela? Resposta: True.\n",
      "Há abacate nela?  Resposta: True.\n",
      "E aba?            Resposta: False.\n",
      "Então, adicionemos aba.\n",
      "A palavra aba adicionada.\n",
      "Há aba na árvore? Resposta: True.\n",
      "Perfeito.\n"
     ]
    }
   ],
   "source": [
    "a = CharacterTree(\"abacate\",\"mamão\",\"maniçoba\",\"queijo\")\n",
    "print(\"Árvore criada com as palavras \\\"abacate\\\", \\\"mamão\\\",\\\"maniçoba\\\" e \\\"queijo\\\" nela.\")\n",
    "print(\"Há maniçoba nela? Resposta: {}.\".format(\"maniçoba\" in a))\n",
    "print(\"Há abacate nela?  Resposta: {}.\".format(\"abacate\" in a))\n",
    "print(\"E aba?            Resposta: {}.\".format(\"aba\" in a))\n",
    "print(\"Então, adicionemos aba.\")\n",
    "a.insert(\"aba\")\n",
    "print(\"A palavra aba adicionada.\")\n",
    "print(\"Há aba na árvore? Resposta: {}.\".format(\"aba\" in a))\n",
    "print(\"Perfeito.\")\n",
    "del(a)\n",
    "for i in range(10): collect()"
   ]
  },
  {
   "cell_type": "markdown",
   "metadata": {},
   "source": [
    "### 1.2. `RadixTree`"
   ]
  },
  {
   "cell_type": "code",
   "execution_count": 4,
   "metadata": {},
   "outputs": [
    {
     "name": "stdout",
     "output_type": "stream",
     "text": [
      "Árvore criada com as palavras \"abacate\", \"mamão\",\"maniçoba\" e \"queijo\" nela.\n",
      "Há maniçoba nela? Resposta: True.\n",
      "Há abacate nela?  Resposta: True.\n",
      "E aba?            Resposta: False.\n",
      "Então, adicionemos aba.\n",
      "A palavra aba adicionada.\n",
      "Há aba na árvore? Resposta: True.\n",
      "Perfeito.\n"
     ]
    }
   ],
   "source": [
    "b = RadixTree(\"abacate\",\"mamão\",\"maniçoba\",\"queijo\")\n",
    "print(\"Árvore criada com as palavras \\\"abacate\\\", \\\"mamão\\\",\\\"maniçoba\\\" e \\\"queijo\\\" nela.\")\n",
    "print(\"Há maniçoba nela? Resposta: {}.\".format(\"maniçoba\" in b))\n",
    "print(\"Há abacate nela?  Resposta: {}.\".format(\"abacate\" in b))\n",
    "print(\"E aba?            Resposta: {}.\".format(\"aba\" in b))\n",
    "print(\"Então, adicionemos aba.\")\n",
    "b.insert(\"aba\")\n",
    "print(\"A palavra aba adicionada.\")\n",
    "print(\"Há aba na árvore? Resposta: {}.\".format(\"aba\" in b))\n",
    "print(\"Perfeito.\")\n",
    "del(b)\n",
    "for i in range(10): collect()"
   ]
  },
  {
   "cell_type": "markdown",
   "metadata": {},
   "source": [
    "## 2. Functions employed"
   ]
  },
  {
   "cell_type": "markdown",
   "metadata": {},
   "source": [
    "Under the `dictionaries` folder, a PT-BR dictionary can be found. It was downloaded from [@pythonbr/palavras](https://github.com/pythonprobr/palavras), and different versions were made from it. The ones that shall be used under this section are `palavras.txt` (the whole dictionary) and `palavras_sample.txt`. The sample file was made by randomly picking out 20% of the lines of the original file through the following function:"
   ]
  },
  {
   "cell_type": "code",
   "execution_count": 5,
   "metadata": {},
   "outputs": [],
   "source": [
    "def sample_file(path,new_path,percentage=.20):\n",
    "    \"\"\"Randomly selects lines from files.\n",
    "    \n",
    "    Parameters\n",
    "    ----------\n",
    "    path : str (path)\n",
    "        The path of the file to be sampled.\n",
    "    new_path : str (path)\n",
    "        The path of the file to be created with the chosen lines.\n",
    "    percentage : float (default = .20)\n",
    "        The percentage of lines to be chosen.\n",
    "    \"\"\"\n",
    "    sample = []\n",
    "    with open(path,\"r\",encoding=\"utf-8\") as file:\n",
    "        line = file.readline()\n",
    "        while line != \"\":\n",
    "            if random() < percentage: sample.append(line)\n",
    "            line = file.readline()\n",
    "    with open(new_path,\"w\",encoding=\"utf-8\") as file:\n",
    "        for item in sample: file.write(item)"
   ]
  },
  {
   "cell_type": "markdown",
   "metadata": {},
   "source": [
    "In addition, in order to proceed with further testing, other functions have been created to ease the process. The function `shuffle_file`, defined below, shuffles the lines of a file in order to favor neither the `CharacterTree` nor the `RadixTree` objects."
   ]
  },
  {
   "cell_type": "code",
   "execution_count": 6,
   "metadata": {},
   "outputs": [],
   "source": [
    "def shuffle_file(path,new_path):\n",
    "    \"\"\"Randomly reorders the lines of a file and writes the result into another file.\n",
    "\n",
    "    Parameters\n",
    "    ----------\n",
    "    path : str (path)\n",
    "        The path to the file whose lines are to be randomized.\n",
    "    new_path : str (path)\n",
    "        The path in which to write the file with the already-randomized lines.\n",
    "    \"\"\"\n",
    "    with open(path, \"r\", encoding=\"utf-8\") as file: data = sorted([(random(), line) for line in file])\n",
    "    with open(new_path, \"w\", encoding=\"utf-8\") as file:\n",
    "        for _, line in data: file.write(line)"
   ]
  },
  {
   "cell_type": "markdown",
   "metadata": {},
   "source": [
    "The following function serves to read a dictionary file (one word per line) and turn it into a list, where each item is a word."
   ]
  },
  {
   "cell_type": "code",
   "execution_count": 7,
   "metadata": {},
   "outputs": [],
   "source": [
    "def dict_to_list(path):\n",
    "    \"\"\"Converts a dictionary file (one word per line) into a Python list object.\n",
    "    \n",
    "    Parameters\n",
    "    ----------\n",
    "    path : str (path)\n",
    "        The path to the dictionary file to be transformed into a Python list object.\n",
    "    \n",
    "    Returns\n",
    "    -------\n",
    "    list\n",
    "        A list where each item is a single word.\n",
    "    \"\"\"\n",
    "    with open(path, \"r\", encoding=\"utf-8\") as file:\n",
    "        return [line.strip(\"\\n\") for line in file.readlines()]"
   ]
  },
  {
   "cell_type": "markdown",
   "metadata": {},
   "source": [
    "## 3. Testing out the module"
   ]
  },
  {
   "cell_type": "markdown",
   "metadata": {},
   "source": [
    "After the afore-executed basic testing, it's time to get down to more interesting stuff, such as the actual spell-checking capability of this module. Although many more improvements can be made, the basic workings of the module shall remain as displayed below.\n",
    "\n",
    "The methods contained in the `spell-checker` classes will be used in timed tests to see how the `CharacterTree` and `RadixTree` classes perform against each other. Further clarification regarding the employed methodology can be find below as well.\n",
    "\n",
    "**Observation:** since the `CharacterTree` and `RadixTree` classes in their current form don't have a `.__del__()` method in place to delete all its children `Character` and `Radix` objects, the `collect()` function from the module `gc` will be used to fully clear unreferenced objects (such as the `Tree` objects) after each execution, assuring that memory matters will not represent a problem to be handled by the subsequent executions."
   ]
  },
  {
   "cell_type": "markdown",
   "metadata": {},
   "source": [
    "### 3.1. Loading a dictionary"
   ]
  },
  {
   "cell_type": "markdown",
   "metadata": {},
   "source": [
    "The first test to be carried through is the **dictionary loading test**. In this test, we want to see how both `Tree` classes perform loading a `pt-br` dictionary under two circumstances:\n",
    "\n",
    " - With the dictionary's entries in alphabetical order; and\n",
    " - With the dictionary's entries randomly ordered.\n",
    "\n",
    "Considering we want the average loading time, this test will be performed multiple times.\n",
    "\n",
    "The number of repetitions can be changed below."
   ]
  },
  {
   "cell_type": "code",
   "execution_count": 8,
   "metadata": {},
   "outputs": [],
   "source": [
    "repetitions = 10"
   ]
  },
  {
   "cell_type": "markdown",
   "metadata": {},
   "source": [
    "#### 3.1.1. Without alphabetically-ordered entries"
   ]
  },
  {
   "cell_type": "markdown",
   "metadata": {},
   "source": [
    "##### 3.1.1.1. `CharacterTree`"
   ]
  },
  {
   "cell_type": "code",
   "execution_count": 9,
   "metadata": {},
   "outputs": [
    {
     "name": "stdout",
     "output_type": "stream",
     "text": [
      "Repetition  0... done. Loading time: 27.445672035217285\n",
      "Repetition  1... done. Loading time: 26.666748762130737\n",
      "Repetition  2... done. Loading time: 26.89117670059204\n",
      "Repetition  3... done. Loading time: 24.885462045669556\n",
      "Repetition  4... done. Loading time: 25.51481556892395\n",
      "Repetition  5... done. Loading time: 25.201653480529785\n",
      "Repetition  6... done. Loading time: 28.583613872528076\n",
      "Repetition  7... done. Loading time: 26.768612146377563\n",
      "Repetition  8... done. Loading time: 26.54206943511963\n",
      "Repetition  9... done. Loading time: 26.104236364364624\n",
      "\n",
      "Total repetitions: 10 | Average time elapsed per repetition (in seconds): 26.460406041145326\n"
     ]
    }
   ],
   "source": [
    "final_time = 0\n",
    "for i in range(repetitions):\n",
    "    print(\"Repetition {:2}...\".format(i), end=\"\")\n",
    "    start_time = time()\n",
    "    from_txt(\"./dictionaries/palavras.txt\",\"CHARACTER\")\n",
    "    execution_time = time() - start_time\n",
    "    print(\" done. Loading time: {}\".format(execution_time))\n",
    "    final_time += execution_time\n",
    "    del(start_time,execution_time)\n",
    "    for i in range(10): collect()\n",
    "print(\"\\nTotal repetitions: {} | Average time elapsed per repetition (in seconds): {}\".format(repetitions, final_time/repetitions))\n",
    "del(final_time)"
   ]
  },
  {
   "cell_type": "markdown",
   "metadata": {},
   "source": [
    "##### 3.1.1.2. `RadixTree`"
   ]
  },
  {
   "cell_type": "code",
   "execution_count": 10,
   "metadata": {},
   "outputs": [
    {
     "name": "stdout",
     "output_type": "stream",
     "text": [
      "Repetition  0... done. Loading time: 28.11185622215271\n",
      "Repetition  1... done. Loading time: 27.777842044830322\n",
      "Repetition  2... done. Loading time: 28.817986965179443\n",
      "Repetition  3... done. Loading time: 28.105885982513428\n",
      "Repetition  4... done. Loading time: 25.858898878097534\n",
      "Repetition  5... done. Loading time: 28.31390404701233\n",
      "Repetition  6... done. Loading time: 26.312682151794434\n",
      "Repetition  7... done. Loading time: 26.8063383102417\n",
      "Repetition  8... done. Loading time: 28.89821481704712\n",
      "Repetition  9... done. Loading time: 29.081283569335938\n",
      "\n",
      "Total repetitions: 10 | Average time elapsed per repetition (in seconds): 27.808489298820497\n"
     ]
    }
   ],
   "source": [
    "final_time = 0\n",
    "for i in range(repetitions):\n",
    "    print(\"Repetition {:2}...\".format(i), end=\"\")\n",
    "    start_time = time()\n",
    "    from_txt(\"./dictionaries/palavras.txt\",\"RADIX\")\n",
    "    execution_time = time() - start_time\n",
    "    print(\" done. Loading time: {}\".format(execution_time))\n",
    "    final_time += execution_time\n",
    "    del(start_time,execution_time)\n",
    "    for i in range(10): collect()\n",
    "print(\"\\nTotal repetitions: {} | Average time elapsed per repetition (in seconds): {}\".format(repetitions, final_time/repetitions))\n",
    "del(final_time)"
   ]
  },
  {
   "cell_type": "markdown",
   "metadata": {},
   "source": [
    "**Winner:** `CharacterTree`"
   ]
  },
  {
   "cell_type": "markdown",
   "metadata": {},
   "source": [
    "#### 3.1.2. With randomized entries"
   ]
  },
  {
   "cell_type": "markdown",
   "metadata": {},
   "source": [
    "##### 3.1.2.1. `CharacterTree`"
   ]
  },
  {
   "cell_type": "code",
   "execution_count": 11,
   "metadata": {},
   "outputs": [
    {
     "name": "stdout",
     "output_type": "stream",
     "text": [
      "Repetition  0... done. Loading time: 22.410114288330078\n",
      "Repetition  1... done. Loading time: 21.077698469161987\n",
      "Repetition  2... done. Loading time: 20.7234947681427\n",
      "Repetition  3... done. Loading time: 22.89581561088562\n",
      "Repetition  4... done. Loading time: 22.477930784225464\n",
      "Repetition  5... done. Loading time: 20.3356614112854\n",
      "Repetition  6... done. Loading time: 19.881465435028076\n",
      "Repetition  7... done. Loading time: 19.562724113464355\n",
      "Repetition  8... done. Loading time: 19.08899474143982\n",
      "Repetition  9... done. Loading time: 19.998550176620483\n",
      "\n",
      "Total repetitions: 10 | Average time elapsed per repetition (in seconds): 20.8452449798584\n"
     ]
    }
   ],
   "source": [
    "final_time = 0\n",
    "for i in range(repetitions):\n",
    "    print(\"Repetition {:2}...\".format(i), end=\"\")\n",
    "    shuffle_file(\"./dictionaries/palavras.txt\",\"./dictionaries/palavras_randomized.txt\")\n",
    "    start_time = time()\n",
    "    from_txt(\"./dictionaries/palavras_randomized.txt\",\"CHARACTER\")\n",
    "    execution_time = time() - start_time\n",
    "    print(\" done. Loading time: {}\".format(execution_time))\n",
    "    final_time += execution_time\n",
    "    del(start_time,execution_time)\n",
    "    for i in range(10): collect()\n",
    "print(\"\\nTotal repetitions: {} | Average time elapsed per repetition (in seconds): {}\".format(repetitions, final_time/repetitions))\n",
    "del(final_time)"
   ]
  },
  {
   "cell_type": "markdown",
   "metadata": {},
   "source": [
    "##### 3.1.2.2. `RadixTree`"
   ]
  },
  {
   "cell_type": "code",
   "execution_count": 12,
   "metadata": {},
   "outputs": [
    {
     "name": "stdout",
     "output_type": "stream",
     "text": [
      "Repetition  0... done. Loading time: 23.770478010177612\n",
      "Repetition  1... done. Loading time: 26.19901204109192\n",
      "Repetition  2... done. Loading time: 26.401447772979736\n",
      "Repetition  3... done. Loading time: 27.522603750228882\n",
      "Repetition  4... done. Loading time: 26.070618629455566\n",
      "Repetition  5... done. Loading time: 30.848509073257446\n",
      "Repetition  6... done. Loading time: 29.96115779876709\n",
      "Repetition  7... done. Loading time: 26.24708867073059\n",
      "Repetition  8... done. Loading time: 26.039422750473022\n",
      "Repetition  9... done. Loading time: 27.489015340805054\n",
      "\n",
      "Total repetitions: 10 | Average time elapsed per repetition (in seconds): 27.054935383796693\n"
     ]
    }
   ],
   "source": [
    "final_time = 0\n",
    "for i in range(repetitions):\n",
    "    print(\"Repetition {:2}...\".format(i), end=\"\")\n",
    "    shuffle_file(\"./dictionaries/palavras.txt\",\"./dictionaries/palavras_randomized.txt\")\n",
    "    start_time = time()\n",
    "    from_txt(\"./dictionaries/palavras_randomized.txt\",\"RADIX\")\n",
    "    execution_time = time() - start_time\n",
    "    print(\" done. Loading time: {}\".format(execution_time))\n",
    "    final_time += execution_time\n",
    "    del(start_time,execution_time)\n",
    "    for i in range(10): collect()\n",
    "print(\"\\nTotal repetitions: {} | Average time elapsed per repetition (in seconds): {}\".format(repetitions, final_time/repetitions))\n",
    "del(final_time)"
   ]
  },
  {
   "cell_type": "markdown",
   "metadata": {},
   "source": [
    "**Winner:** `CharacterTree`"
   ]
  },
  {
   "cell_type": "markdown",
   "metadata": {},
   "source": [
    "### 3.2. Loading a text file"
   ]
  },
  {
   "cell_type": "markdown",
   "metadata": {},
   "source": [
    "Let's move on to the next test: the **text loading test**. In this test, we want to see how both `Tree` classes perform loading `constituicao.txt` – a `.txt` file containing Brazil's Constitution. Following the model seen above, two approaches will be employed here:\n",
    "\n",
    " - With the text's entries in alphabetical order; and\n",
    " - With the text's entries randomly ordered.\n",
    "\n",
    "Considering we want the average loading time, this test will be performed multiple times.\n",
    "\n",
    "Since the `CharacterTree` and `RadixTree` classes in their current form don't have a `.__del__()` method in place to delete all its children `Character` and `Radix` objects, the `collect()` function from the module `gc` will be used to fully clear unreferenced objects (such as the `Tree` objects) after each execution, assuring that memory matters will not represent a problem to be handled by the subsequent executions.\n",
    "\n",
    "The number of repetitions can be changed below."
   ]
  },
  {
   "cell_type": "code",
   "execution_count": 13,
   "metadata": {},
   "outputs": [],
   "source": [
    "repetitions = 10"
   ]
  },
  {
   "cell_type": "markdown",
   "metadata": {},
   "source": [
    "#### 3.2.1. With ordered lines"
   ]
  },
  {
   "cell_type": "markdown",
   "metadata": {},
   "source": [
    "##### 3.2.1.1. `CharacterTree`"
   ]
  },
  {
   "cell_type": "code",
   "execution_count": 14,
   "metadata": {},
   "outputs": [
    {
     "name": "stdout",
     "output_type": "stream",
     "text": [
      "Repetition  0... done. Loading time: 3.1884796619415283\n",
      "Repetition  1... done. Loading time: 3.7808997631073\n",
      "Repetition  2... done. Loading time: 3.1795029640197754\n",
      "Repetition  3... done. Loading time: 3.260368585586548\n",
      "Repetition  4... done. Loading time: 3.1146767139434814\n",
      "Repetition  5... done. Loading time: 3.31514573097229\n",
      "Repetition  6... done. Loading time: 3.355034112930298\n",
      "Repetition  7... done. Loading time: 3.010953903198242\n",
      "Repetition  8... done. Loading time: 2.7376959323883057\n",
      "Repetition  9... done. Loading time: 3.360534906387329\n",
      "\n",
      "Total repetitions: 10 | Average time elapsed per repetition (in seconds): 3.23032922744751\n"
     ]
    }
   ],
   "source": [
    "final_time = 0\n",
    "for i in range(repetitions):\n",
    "    print(\"Repetition {:2}...\".format(i), end=\"\")\n",
    "    start_time = time()\n",
    "    from_txt(\"./texts/constituicao.txt\",\"CHARACTER\")\n",
    "    execution_time = time() - start_time\n",
    "    print(\" done. Loading time: {}\".format(execution_time))\n",
    "    final_time += execution_time\n",
    "    del(start_time,execution_time)\n",
    "    for i in range(10): collect()\n",
    "print(\"\\nTotal repetitions: {} | Average time elapsed per repetition (in seconds): {}\".format(repetitions, final_time/repetitions))\n",
    "del(final_time)"
   ]
  },
  {
   "cell_type": "markdown",
   "metadata": {},
   "source": [
    "##### 3.2.1.2. `RadixTree`"
   ]
  },
  {
   "cell_type": "code",
   "execution_count": 15,
   "metadata": {},
   "outputs": [
    {
     "name": "stdout",
     "output_type": "stream",
     "text": [
      "Repetition  0... done. Loading time: 4.273738384246826\n",
      "Repetition  1... done. Loading time: 3.892868757247925\n",
      "Repetition  2... done. Loading time: 3.942465305328369\n",
      "Repetition  3... done. Loading time: 4.252634763717651\n",
      "Repetition  4... done. Loading time: 4.235703229904175\n",
      "Repetition  5... done. Loading time: 4.448100805282593\n",
      "Repetition  6... done. Loading time: 3.913541555404663\n",
      "Repetition  7... done. Loading time: 3.925509214401245\n",
      "Repetition  8... done. Loading time: 3.807823896408081\n",
      "Repetition  9... done. Loading time: 4.5448524951934814\n",
      "\n",
      "Total repetitions: 10 | Average time elapsed per repetition (in seconds): 4.123723840713501\n"
     ]
    }
   ],
   "source": [
    "final_time = 0\n",
    "for i in range(repetitions):\n",
    "    print(\"Repetition {:2}...\".format(i), end=\"\")\n",
    "    start_time = time()\n",
    "    from_txt(\"./texts/constituicao.txt\",\"RADIX\")\n",
    "    execution_time = time() - start_time\n",
    "    print(\" done. Loading time: {}\".format(execution_time))\n",
    "    final_time += execution_time\n",
    "    del(start_time,execution_time)\n",
    "    for i in range(10): collect()\n",
    "print(\"\\nTotal repetitions: {} | Average time elapsed per repetition (in seconds): {}\".format(repetitions, final_time/repetitions))\n",
    "del(final_time)"
   ]
  },
  {
   "cell_type": "markdown",
   "metadata": {},
   "source": [
    "**Winner:** `CharacterTree`"
   ]
  },
  {
   "cell_type": "markdown",
   "metadata": {},
   "source": [
    "#### 3.2.2. With randomized lines"
   ]
  },
  {
   "cell_type": "markdown",
   "metadata": {},
   "source": [
    "##### 3.2.2.1. `CharacterTree`"
   ]
  },
  {
   "cell_type": "code",
   "execution_count": 16,
   "metadata": {},
   "outputs": [
    {
     "name": "stdout",
     "output_type": "stream",
     "text": [
      "Repetition  0... done. Loading time: 3.4816951751708984\n",
      "Repetition  1... done. Loading time: 2.813480854034424\n",
      "Repetition  2... done. Loading time: 2.9521095752716064\n",
      "Repetition  3... done. Loading time: 2.9381468296051025\n",
      "Repetition  4... done. Loading time: 2.589077949523926\n",
      "Repetition  5... done. Loading time: 2.473389148712158\n",
      "Repetition  6... done. Loading time: 2.3975954055786133\n",
      "Repetition  7... done. Loading time: 2.570131540298462\n",
      "Repetition  8... done. Loading time: 2.61002516746521\n",
      "Repetition  9... done. Loading time: 2.603044271469116\n",
      "\n",
      "Total repetitions: 10 | Average time elapsed per repetition (in seconds): 2.7428695917129517\n"
     ]
    }
   ],
   "source": [
    "final_time = 0\n",
    "for i in range(repetitions):\n",
    "    print(\"Repetition {:2}...\".format(i), end=\"\")\n",
    "    shuffle_file(\"./texts/constituicao.txt\",\"./texts/constituicao_randomized.txt\")\n",
    "    start_time = time()\n",
    "    from_txt(\"./texts/constituicao_randomized.txt\",\"CHARACTER\")\n",
    "    execution_time = time() - start_time\n",
    "    print(\" done. Loading time: {}\".format(execution_time))\n",
    "    final_time += execution_time\n",
    "    del(start_time,execution_time)\n",
    "    for i in range(10): collect()\n",
    "print(\"\\nTotal repetitions: {} | Average time elapsed per repetition (in seconds): {}\".format(repetitions, final_time/repetitions))\n",
    "del(final_time)"
   ]
  },
  {
   "cell_type": "markdown",
   "metadata": {},
   "source": [
    "##### 3.2.2.2. `RadixTree`"
   ]
  },
  {
   "cell_type": "code",
   "execution_count": 17,
   "metadata": {},
   "outputs": [
    {
     "name": "stdout",
     "output_type": "stream",
     "text": [
      "Repetition  0... done. Loading time: 3.8217875957489014\n",
      "Repetition  1... done. Loading time: 3.604365110397339\n",
      "Repetition  2... done. Loading time: 3.4388439655303955\n",
      "Repetition  3... done. Loading time: 3.923516273498535\n",
      "Repetition  4... done. Loading time: 3.618304491043091\n",
      "Repetition  5... done. Loading time: 3.6352856159210205\n",
      "Repetition  6... done. Loading time: 3.819790840148926\n",
      "Repetition  7... done. Loading time: 3.704566240310669\n",
      "Repetition  8... done. Loading time: 3.5656518936157227\n",
      "Repetition  9... done. Loading time: 3.5923962593078613\n",
      "\n",
      "Total repetitions: 10 | Average time elapsed per repetition (in seconds): 3.672450828552246\n"
     ]
    }
   ],
   "source": [
    "final_time = 0\n",
    "for i in range(repetitions):\n",
    "    print(\"Repetition {:2}...\".format(i), end=\"\")\n",
    "    shuffle_file(\"./texts/constituicao.txt\",\"./texts/constituicao_randomized.txt\")\n",
    "    start_time = time()\n",
    "    from_txt(\"./texts/constituicao_randomized.txt\",\"RADIX\")\n",
    "    execution_time = time() - start_time\n",
    "    print(\" done. Loading time: {}\".format(execution_time))\n",
    "    final_time += execution_time\n",
    "    del(start_time,execution_time)\n",
    "    for i in range(10): collect()\n",
    "print(\"\\nTotal repetitions: {} | Average time elapsed per repetition (in seconds): {}\".format(repetitions, final_time/repetitions))\n",
    "del(final_time)"
   ]
  },
  {
   "cell_type": "markdown",
   "metadata": {},
   "source": [
    "**Winner:** `CharacterTree`"
   ]
  },
  {
   "cell_type": "markdown",
   "metadata": {},
   "source": [
    "### 3.3. Spell-checking dictionary sample"
   ]
  },
  {
   "cell_type": "markdown",
   "metadata": {},
   "source": [
    "`CharacterTree.check(path)` and `RadixTree.check(path)` are set to return a list containing only the misspelled words (or the words not loaded in the dictionary). It is important to notice, however, that `palavras.txt`, although meant to contain only one word per line, some of the lines contain words separated by spaces, for whatever reason. As such, since they some times are not in the dictionary by themselves, but rather together in a composed word, they might be returned even though they are correctly written."
   ]
  },
  {
   "cell_type": "markdown",
   "metadata": {},
   "source": [
    "#### 3.3.1. Loading up the dictionary"
   ]
  },
  {
   "cell_type": "markdown",
   "metadata": {},
   "source": [
    "First of all, let's load up an instance of `CharacterTree` and `RadixTree` containing the `pt-br` dictionary:"
   ]
  },
  {
   "cell_type": "markdown",
   "metadata": {},
   "source": [
    "##### 3.1.1.1. `CharacterTree`"
   ]
  },
  {
   "cell_type": "code",
   "execution_count": 18,
   "metadata": {},
   "outputs": [
    {
     "name": "stdout",
     "output_type": "stream",
     "text": [
      "Executing from_dict()... done. Time elapsed (in seconds): 27.607223510742188\n"
     ]
    }
   ],
   "source": [
    "start_time = time()\n",
    "print(\"Executing from_dict()...\",end=\" \")\n",
    "ct_pt_br = from_dict(\"./dictionaries/palavras.txt\",\"character\")\n",
    "final_time = time() - start_time\n",
    "print(\"done. Time elapsed (in seconds): {}\".format(final_time))\n",
    "del(start_time,final_time)"
   ]
  },
  {
   "cell_type": "code",
   "execution_count": 19,
   "metadata": {},
   "outputs": [
    {
     "data": {
      "text/plain": [
       "<CharacterTree object>\n",
       "320140 words loaded.\n",
       "Available Initial Characters: A, B, C, D, E, F, G, H, I, J, K, L, M, N, O, P, Q, R, S, T, U, V, W, X, Y, Z, a, b, c, d, e, f, g, h, i, j, k, l, m, n, o, p, q, r, s, t, u, v, w, x, y, z, ª, µ, º, Á, Â, É, Ê, Í, Ò, Ó, Ô, Ø, Ú, à, á, â, ã, ç, é, ê, í, ó, ô, õ, ø, ú"
      ]
     },
     "execution_count": 19,
     "metadata": {},
     "output_type": "execute_result"
    }
   ],
   "source": [
    "ct_pt_br"
   ]
  },
  {
   "cell_type": "markdown",
   "metadata": {},
   "source": [
    "##### 3.1.1.2. `RadixTree`"
   ]
  },
  {
   "cell_type": "code",
   "execution_count": 20,
   "metadata": {},
   "outputs": [
    {
     "name": "stdout",
     "output_type": "stream",
     "text": [
      "Executing from_dict()... done. Time elapsed (in seconds): 28.138803005218506\n"
     ]
    }
   ],
   "source": [
    "start_time = time()\n",
    "print(\"Executing from_dict()...\",end=\" \")\n",
    "rt_pt_br = from_dict(\"./dictionaries/palavras.txt\",\"radix\")\n",
    "final_time = time() - start_time\n",
    "print(\"done. Time elapsed (in seconds): {}\".format(final_time))\n",
    "del(start_time,final_time)"
   ]
  },
  {
   "cell_type": "code",
   "execution_count": 21,
   "metadata": {},
   "outputs": [
    {
     "data": {
      "text/plain": [
       "<RadixTree object>\n",
       "320140 words loaded.\n",
       "Available Initial Radices: A, B, C, D, E, F, G, H, I, J, K, L, M, N, O, P, Q, R, S, T, U, V, W, X, Y, Z, a, b, c, d, e, f, g, h, i, j, k, l, m, n, o, p, q, r, s, t, u, v, w, x, y, z, ª, µ, º, Á, Â, É, Ê, Í, Ò, Ó, Ônibus, Ø, Ú, à, á, â, ã, ç, é, ê, í, ó, ô, ões, ø, ú"
      ]
     },
     "execution_count": 21,
     "metadata": {},
     "output_type": "execute_result"
    }
   ],
   "source": [
    "rt_pt_br"
   ]
  },
  {
   "cell_type": "markdown",
   "metadata": {},
   "source": [
    "#### 3.3.2. Proceed with the checking process"
   ]
  },
  {
   "cell_type": "markdown",
   "metadata": {},
   "source": [
    "Once that's done, let's proceed with the check-up test, which shall take place in the following manner: for a given number of repetitions, the text contained in the desired file (in this case, a sample of approximately 20% of `palavras.txt`, located in `palavras_sample.txt`) will be checked against both `Tree` objects. It is obvious that, since the contents of `palavras_sample.txt` are integrally contained in `palavras.txt`, no misspellings will be found, as it can be seen with the following code:"
   ]
  },
  {
   "cell_type": "code",
   "execution_count": 22,
   "metadata": {},
   "outputs": [
    {
     "name": "stdout",
     "output_type": "stream",
     "text": [
      "64143 words contained in palavras_sample.txt.\n",
      "0 incorrect words found in the CharacterTree: []\n",
      "0 incorrect words found in the RadixTree: []\n"
     ]
    }
   ],
   "source": [
    "ct_misspellings, rt_misspellings = ct_pt_br.check(\"./dictionaries/palavras_sample.txt\"), rt_pt_br.check(\"./dictionaries/palavras_sample.txt\")\n",
    "palavras_sample = dict_to_list(\"./dictionaries/palavras_sample.txt\")\n",
    "print(\"{} words contained in palavras_sample.txt.\".format(len(palavras_sample)))\n",
    "print(\"{} incorrect words found in the CharacterTree: {}\".format(len(ct_misspellings), ct_misspellings))\n",
    "print(\"{} incorrect words found in the RadixTree: {}\".format(len(rt_misspellings), rt_misspellings))\n",
    "del(ct_misspellings, rt_misspellings, palavras_sample)"
   ]
  },
  {
   "cell_type": "markdown",
   "metadata": {},
   "source": [
    "Once it has already been established that the words under `palavras_sample.txt` are fully contained in `palavras.txt`, these same words under `palavras_sample.txt` will be checked multiple times againt the `Tree` objects, aiming to obtain the average time used throughout the checking process.\n",
    "\n",
    "The number of repetitions can be changed below:"
   ]
  },
  {
   "cell_type": "code",
   "execution_count": 23,
   "metadata": {},
   "outputs": [],
   "source": [
    "repetitions = 10"
   ]
  },
  {
   "cell_type": "markdown",
   "metadata": {},
   "source": [
    "##### 3.3.2.1. `CharacterTree`"
   ]
  },
  {
   "cell_type": "code",
   "execution_count": 24,
   "metadata": {},
   "outputs": [
    {
     "name": "stdout",
     "output_type": "stream",
     "text": [
      "Repetition  0... done. Checking time: 4.599707126617432\n",
      "Repetition  1... done. Checking time: 4.626637697219849\n",
      "Repetition  2... done. Checking time: 4.584747314453125\n",
      "Repetition  3... done. Checking time: 4.549839735031128\n",
      "Repetition  4... done. Checking time: 5.110329866409302\n",
      "Repetition  5... done. Checking time: 4.460068941116333\n",
      "Repetition  6... done. Checking time: 4.621556997299194\n",
      "Repetition  7... done. Checking time: 4.5558249950408936\n",
      "Repetition  8... done. Checking time: 4.814133644104004\n",
      "Repetition  9... done. Checking time: 4.853031396865845\n",
      "\n",
      "Total repetitions: 10 | Average time elapsed per repetition (in seconds): 4.677587771415711\n",
      "                        Average time elapsed per word (in seconds):       7.292436854240854e-05\n"
     ]
    }
   ],
   "source": [
    "final_time = 0\n",
    "for i in range(repetitions):\n",
    "    print(\"Repetition {:2}...\".format(i), end=\"\")\n",
    "    start_time = time()\n",
    "    ct_misspellings = ct_pt_br.check(\"./dictionaries/palavras_sample.txt\")\n",
    "    execution_time = time() - start_time\n",
    "    print(\" done. Checking time: {}\".format(execution_time))\n",
    "    final_time += execution_time\n",
    "    del(start_time,execution_time, ct_misspellings)\n",
    "print(\"\\nTotal repetitions: {} | Average time elapsed per repetition (in seconds): {}\".format(repetitions, final_time/repetitions))\n",
    "print(\"                   {}   Average time elapsed per word (in seconds):       {}\".format(len(str(repetitions))*\" \", final_time/repetitions/64143))\n",
    "del(final_time)"
   ]
  },
  {
   "cell_type": "markdown",
   "metadata": {},
   "source": [
    "##### 3.3.2.2. `RadixTree`"
   ]
  },
  {
   "cell_type": "code",
   "execution_count": 25,
   "metadata": {},
   "outputs": [
    {
     "name": "stdout",
     "output_type": "stream",
     "text": [
      "Repetition  0... done. Checking time: 4.354363918304443\n",
      "Repetition  1... done. Checking time: 4.184817552566528\n",
      "Repetition  2... done. Checking time: 3.7669572830200195\n",
      "Repetition  3... done. Checking time: 3.950911521911621\n",
      "Repetition  4... done. Checking time: 3.6980903148651123\n",
      "Repetition  5... done. Checking time: 3.747981309890747\n",
      "Repetition  6... done. Checking time: 3.701110601425171\n",
      "Repetition  7... done. Checking time: 3.6322920322418213\n",
      "Repetition  8... done. Checking time: 3.914538860321045\n",
      "Repetition  9... done. Checking time: 3.9514412879943848\n",
      "\n",
      "Total repetitions: 10 | Average time elapsed per repetition (in seconds): 3.8902504682540893\n",
      "                        Average time elapsed per word (in seconds):       6.06496495058555e-05\n"
     ]
    }
   ],
   "source": [
    "final_time = 0\n",
    "for i in range(repetitions):\n",
    "    print(\"Repetition {:2}...\".format(i), end=\"\")\n",
    "    start_time = time()\n",
    "    rt_misspellings = rt_pt_br.check(\"./dictionaries/palavras_sample.txt\")\n",
    "    execution_time = time() - start_time\n",
    "    print(\" done. Checking time: {}\".format(execution_time))\n",
    "    final_time += execution_time\n",
    "    del(start_time,execution_time, rt_misspellings)\n",
    "print(\"\\nTotal repetitions: {} | Average time elapsed per repetition (in seconds): {}\".format(repetitions, final_time/repetitions))\n",
    "print(\"                   {}   Average time elapsed per word (in seconds):       {}\".format(len(str(repetitions))*\" \", final_time/repetitions/64143))\n",
    "del(final_time)"
   ]
  },
  {
   "cell_type": "markdown",
   "metadata": {},
   "source": [
    "**Winner:** `RadixTree`"
   ]
  },
  {
   "cell_type": "markdown",
   "metadata": {},
   "source": [
    "### 3.4. Removing words from the dictionary"
   ]
  },
  {
   "cell_type": "markdown",
   "metadata": {},
   "source": [
    "Finally, it's time to proceed with the last test of this `.ipynb`: the **removal test**. As with the other tests, it will be carried multiple times, and the same 64143 words contained in `palavras_sample.txt` will be removed from the `Tree` objects."
   ]
  },
  {
   "cell_type": "markdown",
   "metadata": {},
   "source": [
    "#### 3.4.1. Loading up `palavras_sample.txt` into a list of words"
   ]
  },
  {
   "cell_type": "markdown",
   "metadata": {},
   "source": [
    "First of all, let's load up `palavras_sample.txt` into a list:"
   ]
  },
  {
   "cell_type": "code",
   "execution_count": 26,
   "metadata": {},
   "outputs": [],
   "source": [
    "words_to_remove = dict_to_list(\"./dictionaries/palavras_sample.txt\")"
   ]
  },
  {
   "cell_type": "markdown",
   "metadata": {},
   "source": [
    "Then, let's define the number of repetitions:"
   ]
  },
  {
   "cell_type": "code",
   "execution_count": 27,
   "metadata": {},
   "outputs": [],
   "source": [
    "repetitions = 10"
   ]
  },
  {
   "cell_type": "markdown",
   "metadata": {},
   "source": [
    "#### 3.4.2. Removing the words in `words_to_remove`"
   ]
  },
  {
   "cell_type": "markdown",
   "metadata": {},
   "source": [
    "Now, let's proceed with the testing:"
   ]
  },
  {
   "cell_type": "markdown",
   "metadata": {},
   "source": [
    "##### 3.4.2.1. `CharacterTree`"
   ]
  },
  {
   "cell_type": "code",
   "execution_count": 28,
   "metadata": {},
   "outputs": [
    {
     "name": "stdout",
     "output_type": "stream",
     "text": [
      "Repetition  0... done. Time used: 4.311478853225708\n",
      "Repetition  1... done. Time used: 5.117313861846924\n",
      "Repetition  2... done. Time used: 4.94877552986145\n",
      "Repetition  3... done. Time used: 4.960743427276611\n",
      "Repetition  4... done. Time used: 5.3307530879974365\n",
      "Repetition  5... done. Time used: 4.941794395446777\n",
      "Repetition  6... done. Time used: 4.8909289836883545\n",
      "Repetition  7... done. Time used: 4.672513008117676\n",
      "Repetition  8... done. Time used: 4.897910833358765\n",
      "Repetition  9... done. Time used: 5.530223369598389\n",
      "\n",
      "Number of removed words: 64143 | Average Removal Time per execution (in seconds): 4.960243535041809\n",
      "                                 Average Removal Time per word (in seconds):      7.7331018740031e-05\n"
     ]
    }
   ],
   "source": [
    "final_time = 0\n",
    "try: del(ct_pt_br)\n",
    "except: pass\n",
    "for i in range(10): collect()\n",
    "\n",
    "for i in range(repetitions):\n",
    "    ct_pt_br = from_dict(\"./dictionaries/palavras.txt\",\"CHARACTER\")\n",
    "    print(\"Repetition {:2}...\".format(i), end=\"\")\n",
    "    start_time = time()\n",
    "    for word_to_remove in words_to_remove: \n",
    "        ct_pt_br.remove(word_to_remove)\n",
    "    end_time = time() - start_time\n",
    "    print(\" done. Time used: {}\".format(end_time))\n",
    "    final_time += end_time\n",
    "    del(ct_pt_br, start_time, end_time)\n",
    "    for i in range(10): collect()\n",
    "\n",
    "print(\"\\nNumber of removed words: {} | Average Removal Time per execution (in seconds): {}\".format(len(words_to_remove), final_time/repetitions))\n",
    "print(\"                         {}   Average Removal Time per word (in seconds):      {}\".format(len(str(len(words_to_remove)))*\" \", (final_time/repetitions)/len(words_to_remove)))\n",
    "del(final_time)"
   ]
  },
  {
   "cell_type": "markdown",
   "metadata": {},
   "source": [
    "##### 3.4.2.1. `RadixTree` <a name=\"aeho\"></a>"
   ]
  },
  {
   "cell_type": "code",
   "execution_count": 29,
   "metadata": {},
   "outputs": [
    {
     "name": "stdout",
     "output_type": "stream",
     "text": [
      "Repetition  0... done. Time used: 5.991986036300659\n",
      "Repetition  1... done. Time used: 5.8533570766448975\n",
      "Repetition  2... done. Time used: 3.962411880493164\n",
      "Repetition  3... done. Time used: 3.6886770725250244\n",
      "Repetition  4... done. Time used: 4.047186851501465\n",
      "Repetition  5... done. Time used: 3.4587082862854004\n",
      "Repetition  6... done. Time used: 3.7280397415161133\n",
      "Repetition  7... done. Time used: 3.64326548576355\n",
      "Repetition  8... done. Time used: 3.6162922382354736\n",
      "Repetition  9... done. Time used: 3.930495500564575\n",
      "\n",
      "Number of removed words: 64143 | Average Removal Time per execution (in seconds): 4.192042016983033\n",
      "                                 Average Removal Time per word (in seconds):      4.192042016983033\n"
     ]
    }
   ],
   "source": [
    "final_time = 0\n",
    "try: del(rt_pt_br)\n",
    "except: pass\n",
    "for i in range(10): collect()\n",
    "\n",
    "for i in range(repetitions):\n",
    "    rt_pt_br = from_dict(\"./dictionaries/palavras.txt\",\"RADIX\")\n",
    "    print(\"Repetition {:2}...\".format(i), end=\"\")\n",
    "    start_time = time()\n",
    "    for word_to_remove in words_to_remove:\n",
    "        #print(\"Removing {}...\".format(word_to_remove))\n",
    "        rt_pt_br.remove(word_to_remove)\n",
    "    end_time = time() - start_time\n",
    "    print(\" done. Time used: {}\".format(end_time))\n",
    "    final_time += end_time\n",
    "    del(rt_pt_br, start_time, end_time)\n",
    "    for i in range(10): collect()\n",
    "\n",
    "print(\"\\nNumber of removed words: {} | Average Removal Time per execution (in seconds): {}\".format(len(words_to_remove), final_time/repetitions))\n",
    "print(\"                         {}   Average Removal Time per word (in seconds):      {}\".format(len(str(len(words_to_remove)))*\" \", final_time/repetitions))\n",
    "del(final_time)"
   ]
  },
  {
   "cell_type": "markdown",
   "metadata": {},
   "source": [
    "**Winner:** `RadixTree`"
   ]
  },
  {
   "cell_type": "markdown",
   "metadata": {},
   "source": [
    "## 4. Conclusions"
   ]
  },
  {
   "cell_type": "markdown",
   "metadata": {},
   "source": [
    "From the results seen above, we can define two separate groups: the loading processes and the manipulation processes (checking and removing). In the loading processes, the `CharacterTree` is a constant winner, while in the manipulation processes, the `RadixTree` gets the job done faster.\n",
    "\n",
    "The differences vary greatly; however, in some cases they are significant enough to influence one's decision when deciding which Tree to implement. The `CharacterTree` is a **Trie Tree**, and while it showed to be faster to load words up in memory, it is slower to manipulate them. On the other hand, we have the `RadixTree`, which is a **Compact Search Tree**. While it takes a little bit longer to load things up, manipulation is faster with it than it is with the Trie Tree."
   ]
  }
 ],
 "metadata": {
  "kernelspec": {
   "display_name": "Python 3",
   "language": "python",
   "name": "python3"
  },
  "language_info": {
   "codemirror_mode": {
    "name": "ipython",
    "version": 3
   },
   "file_extension": ".py",
   "mimetype": "text/x-python",
   "name": "python",
   "nbconvert_exporter": "python",
   "pygments_lexer": "ipython3",
   "version": "3.7.3"
  }
 },
 "nbformat": 4,
 "nbformat_minor": 2
}
