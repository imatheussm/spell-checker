{
 "cells": [
  {
   "cell_type": "markdown",
   "metadata": {},
   "source": [
    "# `spell_checker`"
   ]
  },
  {
   "cell_type": "markdown",
   "metadata": {},
   "source": [
    "This is a simple `.ipynb` file meant to quickly demonstrate the capabilities of this module."
   ]
  },
  {
   "cell_type": "markdown",
   "metadata": {},
   "source": [
    "First of all, we must add the current directory to `PATH` in order to import the `spell_checker` module:"
   ]
  },
  {
   "cell_type": "code",
   "execution_count": 1,
   "metadata": {},
   "outputs": [],
   "source": [
    "from os import getcwd\n",
    "from sys import path as sys_path\n",
    "sys_path.append(getcwd())\n",
    "from spell_checker import *"
   ]
  },
  {
   "cell_type": "markdown",
   "metadata": {},
   "source": [
    "Then, we must import modules of interest to perform this demonstration properly:"
   ]
  },
  {
   "cell_type": "code",
   "execution_count": 3,
   "metadata": {},
   "outputs": [],
   "source": [
    "from time import time"
   ]
  },
  {
   "cell_type": "markdown",
   "metadata": {},
   "source": [
    "With that out of the way, we can get down to business:"
   ]
  },
  {
   "cell_type": "markdown",
   "metadata": {},
   "source": [
    "## Basic testing"
   ]
  },
  {
   "cell_type": "code",
   "execution_count": 2,
   "metadata": {},
   "outputs": [
    {
     "name": "stdout",
     "output_type": "stream",
     "text": [
      "Árvore criada com as palavras \"abacate\", \"mamão\",\"maniçoba\" e \"queijo\" nela.\n",
      "Há maniçoba nela? Resposta: True.\n",
      "Há abacate nela?  Resposta: True.\n",
      "E aba?            Resposta: False.\n",
      "Então, adicionemos aba.\n",
      "A palavra aba adicionada.\n",
      "Há aba na árvore? Resposta: True.\n",
      "Perfeito.\n",
      "a, m, q\n"
     ]
    }
   ],
   "source": [
    "a = CharacterTree(\"abacate\",\"mamão\",\"maniçoba\",\"queijo\")\n",
    "print(\"Árvore criada com as palavras \\\"abacate\\\", \\\"mamão\\\",\\\"maniçoba\\\" e \\\"queijo\\\" nela.\")\n",
    "print(\"Há maniçoba nela? Resposta: {}.\".format(\"maniçoba\" in a))\n",
    "print(\"Há abacate nela?  Resposta: {}.\".format(\"abacate\" in a))\n",
    "print(\"E aba?            Resposta: {}.\".format(\"aba\" in a))\n",
    "print(\"Então, adicionemos aba.\")\n",
    "a.insert(\"aba\")\n",
    "print(\"A palavra aba adicionada.\")\n",
    "print(\"Há aba na árvore? Resposta: {}.\".format(\"aba\" in a))\n",
    "print(\"Perfeito.\")"
   ]
  },
  {
   "cell_type": "markdown",
   "metadata": {},
   "source": [
    "## Spell-checking capabilities"
   ]
  },
  {
   "cell_type": "markdown",
   "metadata": {},
   "source": [
    "After the afore-executed basic testing, it's time to get down to more interesting stuff, such as the actual spell-checking capability of this module. Although many more improvements can be made, the basic workings of the module shall remain as displayed below."
   ]
  },
  {
   "cell_type": "markdown",
   "metadata": {},
   "source": [
    "Under the `dictionaries` folder, a PT-BR dictionary can be found. It was downloaded from [@pythonbr/palavras](https://github.com/pythonprobr/palavras), and different versions were made from it. The ones that shall be used under this section are `palavras.txt` (the whole dictionary) and `palavras_sample.txt`. The sample file was made by randomly picking out 20% of the lines of the original file through the following function:"
   ]
  },
  {
   "cell_type": "code",
   "execution_count": 4,
   "metadata": {},
   "outputs": [],
   "source": [
    "def sample_file(path,new_path,percentage=.20):\n",
    "    \"\"\"Randomly selects lines from files.\n",
    "    \n",
    "    Parameters\n",
    "    ----------\n",
    "    path : str (path)\n",
    "        The path of the file to be sampled.\n",
    "    new_path : str (path)\n",
    "        The path of the file to be created with the chosen lines.\n",
    "    percentage : float (default = .20)\n",
    "        The percentage of lines to be chosen.\n",
    "    \"\"\"\n",
    "    sample = []\n",
    "    with open(path,\"r\",encoding=\"utf-8\") as file:\n",
    "        line = file.readline()\n",
    "        while line != \"\":\n",
    "            if random() < percentage: sample.append(line)\n",
    "            line = file.readline()\n",
    "    with open(new_path,\"w\",encoding=\"utf-8\") as file:\n",
    "        for item in sample: file.write(item)"
   ]
  },
  {
   "cell_type": "code",
   "execution_count": null,
   "metadata": {},
   "outputs": [],
   "source": []
  }
 ],
 "metadata": {
  "kernelspec": {
   "display_name": "Python 3",
   "language": "python",
   "name": "python3"
  },
  "language_info": {
   "codemirror_mode": {
    "name": "ipython",
    "version": 3
   },
   "file_extension": ".py",
   "mimetype": "text/x-python",
   "name": "python",
   "nbconvert_exporter": "python",
   "pygments_lexer": "ipython3",
   "version": "3.7.3"
  }
 },
 "nbformat": 4,
 "nbformat_minor": 2
}
