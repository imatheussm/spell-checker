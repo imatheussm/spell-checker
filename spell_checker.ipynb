{
 "cells": [
  {
   "cell_type": "markdown",
   "metadata": {},
   "source": [
    "# `spell_checker`"
   ]
  },
  {
   "cell_type": "markdown",
   "metadata": {},
   "source": [
    "This is a simple `.ipynb` file meant to quickly demonstrate the capabilities of this module."
   ]
  },
  {
   "cell_type": "markdown",
   "metadata": {},
   "source": [
    "First of all, we must add the current directory to `PATH` in order to import the `spell_checker` module:"
   ]
  },
  {
   "cell_type": "code",
   "execution_count": 1,
   "metadata": {},
   "outputs": [],
   "source": [
    "from os import getcwd\n",
    "from sys import path as sys_path\n",
    "#from time import time\n",
    "sys_path.append(getcwd())\n",
    "from spell_checker import *"
   ]
  },
  {
   "cell_type": "markdown",
   "metadata": {},
   "source": [
    "With that out of the way, we can get down to business:"
   ]
  },
  {
   "cell_type": "code",
   "execution_count": 2,
   "metadata": {},
   "outputs": [
    {
     "name": "stdout",
     "output_type": "stream",
     "text": [
      "Árvore criada com as palavras \"abacate\", \"mamão\",\"maniçoba\" e \"queijo\" nela.\n",
      "Há maniçoba nela? Resposta: True.\n",
      "Há abacate nela?  Resposta: True.\n",
      "E aba?            Resposta: False.\n",
      "Então, adicionemos aba.\n",
      "A palavra aba adicionada.\n",
      "Há aba na árvore? Resposta: True.\n",
      "Perfeito.\n",
      "a, m, q\n"
     ]
    }
   ],
   "source": [
    "a = CharacterTree(\"abacate\",\"mamão\",\"maniçoba\",\"queijo\")\n",
    "print(\"Árvore criada com as palavras \\\"abacate\\\", \\\"mamão\\\",\\\"maniçoba\\\" e \\\"queijo\\\" nela.\")\n",
    "print(\"Há maniçoba nela? Resposta: {}.\".format(\"maniçoba\" in a))\n",
    "print(\"Há abacate nela?  Resposta: {}.\".format(\"abacate\" in a))\n",
    "print(\"E aba?            Resposta: {}.\".format(\"aba\" in a))\n",
    "print(\"Então, adicionemos aba.\")\n",
    "a.insert(\"aba\")\n",
    "print(\"A palavra aba adicionada.\")\n",
    "print(\"Há aba na árvore? Resposta: {}.\".format(\"aba\" in a))\n",
    "print(\"Perfeito.\")\n",
    "\n",
    "print(\", \".join([character.character for character in a.next_characters]))"
   ]
  },
  {
   "cell_type": "code",
   "execution_count": null,
   "metadata": {},
   "outputs": [],
   "source": []
  }
 ],
 "metadata": {
  "kernelspec": {
   "display_name": "Python 3",
   "language": "python",
   "name": "python3"
  },
  "language_info": {
   "codemirror_mode": {
    "name": "ipython",
    "version": 3
   },
   "file_extension": ".py",
   "mimetype": "text/x-python",
   "name": "python",
   "nbconvert_exporter": "python",
   "pygments_lexer": "ipython3",
   "version": "3.7.3"
  }
 },
 "nbformat": 4,
 "nbformat_minor": 2
}
