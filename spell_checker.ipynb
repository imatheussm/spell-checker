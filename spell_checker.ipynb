{
 "cells": [
  {
   "cell_type": "markdown",
   "metadata": {},
   "source": [
    "# `spell_checker`"
   ]
  },
  {
   "cell_type": "markdown",
   "metadata": {},
   "source": [
    "This is a simple `.ipynb` file meant to quickly demonstrate the capabilities of this module."
   ]
  },
  {
   "cell_type": "markdown",
   "metadata": {},
   "source": [
    "First of all, we must add the current directory to `PATH` in order to import the `spell_checker` module:"
   ]
  },
  {
   "cell_type": "code",
   "execution_count": 1,
   "metadata": {},
   "outputs": [],
   "source": [
    "from os import getcwd\n",
    "from sys import path as sys_path\n",
    "sys_path.append(getcwd())\n",
    "from spell_checker import *"
   ]
  },
  {
   "cell_type": "markdown",
   "metadata": {},
   "source": [
    "Then, we must import modules of interest to perform this demonstration properly:"
   ]
  },
  {
   "cell_type": "code",
   "execution_count": 2,
   "metadata": {},
   "outputs": [],
   "source": [
    "from time import time"
   ]
  },
  {
   "cell_type": "markdown",
   "metadata": {},
   "source": [
    "With that out of the way, we can get down to business:"
   ]
  },
  {
   "cell_type": "markdown",
   "metadata": {},
   "source": [
    "## Basic testing"
   ]
  },
  {
   "cell_type": "code",
   "execution_count": 3,
   "metadata": {},
   "outputs": [
    {
     "name": "stdout",
     "output_type": "stream",
     "text": [
      "Árvore criada com as palavras \"abacate\", \"mamão\",\"maniçoba\" e \"queijo\" nela.\n",
      "Há maniçoba nela? Resposta: True.\n",
      "Há abacate nela?  Resposta: True.\n",
      "E aba?            Resposta: False.\n",
      "Então, adicionemos aba.\n",
      "A palavra aba adicionada.\n",
      "Há aba na árvore? Resposta: True.\n",
      "Perfeito.\n"
     ]
    }
   ],
   "source": [
    "a = CharacterTree(\"abacate\",\"mamão\",\"maniçoba\",\"queijo\")\n",
    "print(\"Árvore criada com as palavras \\\"abacate\\\", \\\"mamão\\\",\\\"maniçoba\\\" e \\\"queijo\\\" nela.\")\n",
    "print(\"Há maniçoba nela? Resposta: {}.\".format(\"maniçoba\" in a))\n",
    "print(\"Há abacate nela?  Resposta: {}.\".format(\"abacate\" in a))\n",
    "print(\"E aba?            Resposta: {}.\".format(\"aba\" in a))\n",
    "print(\"Então, adicionemos aba.\")\n",
    "a.insert(\"aba\")\n",
    "print(\"A palavra aba adicionada.\")\n",
    "print(\"Há aba na árvore? Resposta: {}.\".format(\"aba\" in a))\n",
    "print(\"Perfeito.\")"
   ]
  },
  {
   "cell_type": "markdown",
   "metadata": {},
   "source": [
    "## Spell-checking capabilities"
   ]
  },
  {
   "cell_type": "markdown",
   "metadata": {},
   "source": [
    "After the afore-executed basic testing, it's time to get down to more interesting stuff, such as the actual spell-checking capability of this module. Although many more improvements can be made, the basic workings of the module shall remain as displayed below."
   ]
  },
  {
   "cell_type": "markdown",
   "metadata": {},
   "source": [
    "Under the `dictionaries` folder, a PT-BR dictionary can be found. It was downloaded from [@pythonbr/palavras](https://github.com/pythonprobr/palavras), and different versions were made from it. The ones that shall be used under this section are `palavras.txt` (the whole dictionary) and `palavras_sample.txt`. The sample file was made by randomly picking out 20% of the lines of the original file through the following function:"
   ]
  },
  {
   "cell_type": "code",
   "execution_count": 4,
   "metadata": {},
   "outputs": [],
   "source": [
    "def sample_file(path,new_path,percentage=.20):\n",
    "    \"\"\"Randomly selects lines from files.\n",
    "    \n",
    "    Parameters\n",
    "    ----------\n",
    "    path : str (path)\n",
    "        The path of the file to be sampled.\n",
    "    new_path : str (path)\n",
    "        The path of the file to be created with the chosen lines.\n",
    "    percentage : float (default = .20)\n",
    "        The percentage of lines to be chosen.\n",
    "    \"\"\"\n",
    "    sample = []\n",
    "    with open(path,\"r\",encoding=\"utf-8\") as file:\n",
    "        line = file.readline()\n",
    "        while line != \"\":\n",
    "            if random() < percentage: sample.append(line)\n",
    "            line = file.readline()\n",
    "    with open(new_path,\"w\",encoding=\"utf-8\") as file:\n",
    "        for item in sample: file.write(item)"
   ]
  },
  {
   "cell_type": "markdown",
   "metadata": {},
   "source": [
    "### Loading the dictionary in a CharacterTree object"
   ]
  },
  {
   "cell_type": "markdown",
   "metadata": {},
   "source": [
    "This process, in my computer, takes roughly 30 seconds; your mileage, however, may vary."
   ]
  },
  {
   "cell_type": "code",
   "execution_count": 5,
   "metadata": {},
   "outputs": [
    {
     "name": "stdout",
     "output_type": "stream",
     "text": [
      "Executing from_csv()... Time elapsed (in seconds): 23.443318843841553\n"
     ]
    }
   ],
   "source": [
    "start_time = time()\n",
    "print(\"Executing from_csv()...\",end=\" \")\n",
    "pt_br = from_csv(\"./dictionaries/palavras.txt\")\n",
    "final_time = time() - start_time\n",
    "print(\"Time elapsed (in seconds): {}\".format(final_time))\n",
    "del(start_time,final_time)"
   ]
  },
  {
   "cell_type": "code",
   "execution_count": 6,
   "metadata": {},
   "outputs": [
    {
     "data": {
      "text/plain": [
       "<CharacterTree object>\n",
       "320139 words loaded.\n",
       "Available Initial Characters: a, ª, à, á, ã, A, Á, â, Â, B, b, C, c, ç, D, d, e, é, E, Ê, É, ê, f, F, g, G, h, H, I, i, í, Í, j, J, K, k, L, l, M, m, n, N, o, º, Ò, ó, ô, O, Ó, õ, Ô, p, P, q, Q, r, R, S, s, T, t, u, U, ú, Ú, V, v, w, W, X, x, y, Y, z, Z, Ø, ø, µ"
      ]
     },
     "execution_count": 6,
     "metadata": {},
     "output_type": "execute_result"
    }
   ],
   "source": [
    "pt_br"
   ]
  },
  {
   "cell_type": "markdown",
   "metadata": {},
   "source": [
    "### Spell-checking dictionary sample"
   ]
  },
  {
   "cell_type": "markdown",
   "metadata": {},
   "source": [
    "`CharacterTree.check(path)` is set to return a list containing only the misspelled words (or the words not loaded in the dictionary). It is important to notice, however, that since `palavras.txt`, although contains words separated by `\\n`, some of the words contained in some lines contain spaces, for whatever reason. As such, since they some times are not in the dictionary by themselves, but rather together in a composed word, they might be returned even though they are correctly written."
   ]
  },
  {
   "cell_type": "code",
   "execution_count": 8,
   "metadata": {},
   "outputs": [
    {
     "name": "stdout",
     "output_type": "stream",
     "text": [
      "0 incorrect words found: []\n"
     ]
    }
   ],
   "source": [
    "misspellings = pt_br.check(\"./dictionaries/palavras_sample.txt\")\n",
    "print(\"{} incorrect words found: {}\".format(len(misspellings), misspellings))"
   ]
  }
 ],
 "metadata": {
  "kernelspec": {
   "display_name": "Python 3",
   "language": "python",
   "name": "python3"
  },
  "language_info": {
   "codemirror_mode": {
    "name": "ipython",
    "version": 3
   },
   "file_extension": ".py",
   "mimetype": "text/x-python",
   "name": "python",
   "nbconvert_exporter": "python",
   "pygments_lexer": "ipython3",
   "version": "3.7.3"
  }
 },
 "nbformat": 4,
 "nbformat_minor": 2
}
