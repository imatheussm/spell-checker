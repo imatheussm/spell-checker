{
 "cells": [
  {
   "cell_type": "markdown",
   "metadata": {},
   "source": [
    "# `spell_checker`"
   ]
  },
  {
   "cell_type": "markdown",
   "metadata": {},
   "source": [
    "This is a simple `.ipynb` file meant to quickly demonstrate the capabilities of this module."
   ]
  },
  {
   "cell_type": "markdown",
   "metadata": {},
   "source": [
    "First of all, we must add the current directory to `PATH` in order to import the `spell_checker` module:"
   ]
  },
  {
   "cell_type": "code",
   "execution_count": 1,
   "metadata": {},
   "outputs": [],
   "source": [
    "from os import getcwd\n",
    "from sys import path as sys_path\n",
    "sys_path.append(getcwd())\n",
    "from spell_checker import *"
   ]
  },
  {
   "cell_type": "markdown",
   "metadata": {},
   "source": [
    "Then, we must import modules of interest to perform this demonstration properly:"
   ]
  },
  {
   "cell_type": "code",
   "execution_count": 2,
   "metadata": {},
   "outputs": [],
   "source": [
    "from time import time\n",
    "from random import random"
   ]
  },
  {
   "cell_type": "markdown",
   "metadata": {},
   "source": [
    "With that out of the way, we can get down to business:"
   ]
  },
  {
   "cell_type": "markdown",
   "metadata": {},
   "source": [
    "## Basic testing"
   ]
  },
  {
   "cell_type": "markdown",
   "metadata": {},
   "source": [
    "### `CharacterTree`"
   ]
  },
  {
   "cell_type": "code",
   "execution_count": 3,
   "metadata": {},
   "outputs": [
    {
     "name": "stdout",
     "output_type": "stream",
     "text": [
      "Árvore criada com as palavras \"abacate\", \"mamão\",\"maniçoba\" e \"queijo\" nela.\n",
      "Há maniçoba nela? Resposta: True.\n",
      "Há abacate nela?  Resposta: True.\n",
      "E aba?            Resposta: False.\n",
      "Então, adicionemos aba.\n",
      "A palavra aba adicionada.\n",
      "Há aba na árvore? Resposta: True.\n",
      "Perfeito.\n"
     ]
    }
   ],
   "source": [
    "a = CharacterTree(\"abacate\",\"mamão\",\"maniçoba\",\"queijo\")\n",
    "print(\"Árvore criada com as palavras \\\"abacate\\\", \\\"mamão\\\",\\\"maniçoba\\\" e \\\"queijo\\\" nela.\")\n",
    "print(\"Há maniçoba nela? Resposta: {}.\".format(\"maniçoba\" in a))\n",
    "print(\"Há abacate nela?  Resposta: {}.\".format(\"abacate\" in a))\n",
    "print(\"E aba?            Resposta: {}.\".format(\"aba\" in a))\n",
    "print(\"Então, adicionemos aba.\")\n",
    "a.insert(\"aba\")\n",
    "print(\"A palavra aba adicionada.\")\n",
    "print(\"Há aba na árvore? Resposta: {}.\".format(\"aba\" in a))\n",
    "print(\"Perfeito.\")"
   ]
  },
  {
   "cell_type": "markdown",
   "metadata": {},
   "source": [
    "### `RadixTree`"
   ]
  },
  {
   "cell_type": "code",
   "execution_count": 4,
   "metadata": {},
   "outputs": [
    {
     "name": "stdout",
     "output_type": "stream",
     "text": [
      "Árvore criada com as palavras \"abacate\", \"mamão\",\"maniçoba\" e \"queijo\" nela.\n",
      "Há maniçoba nela? Resposta: True.\n",
      "Há abacate nela?  Resposta: True.\n",
      "E aba?            Resposta: False.\n",
      "Então, adicionemos aba.\n",
      "A palavra aba adicionada.\n",
      "Há aba na árvore? Resposta: True.\n",
      "Perfeito.\n"
     ]
    }
   ],
   "source": [
    "b = RadixTree(\"abacate\",\"mamão\",\"maniçoba\",\"queijo\")\n",
    "print(\"Árvore criada com as palavras \\\"abacate\\\", \\\"mamão\\\",\\\"maniçoba\\\" e \\\"queijo\\\" nela.\")\n",
    "print(\"Há maniçoba nela? Resposta: {}.\".format(\"maniçoba\" in b))\n",
    "print(\"Há abacate nela?  Resposta: {}.\".format(\"abacate\" in b))\n",
    "print(\"E aba?            Resposta: {}.\".format(\"aba\" in b))\n",
    "print(\"Então, adicionemos aba.\")\n",
    "b.insert(\"aba\")\n",
    "print(\"A palavra aba adicionada.\")\n",
    "print(\"Há aba na árvore? Resposta: {}.\".format(\"aba\" in b))\n",
    "print(\"Perfeito.\")"
   ]
  },
  {
   "cell_type": "markdown",
   "metadata": {},
   "source": [
    "## Spell-checking capabilities"
   ]
  },
  {
   "cell_type": "markdown",
   "metadata": {},
   "source": [
    "After the afore-executed basic testing, it's time to get down to more interesting stuff, such as the actual spell-checking capability of this module. Although many more improvements can be made, the basic workings of the module shall remain as displayed below."
   ]
  },
  {
   "cell_type": "markdown",
   "metadata": {},
   "source": [
    "Under the `dictionaries` folder, a PT-BR dictionary can be found. It was downloaded from [@pythonbr/palavras](https://github.com/pythonprobr/palavras), and different versions were made from it. The ones that shall be used under this section are `palavras.txt` (the whole dictionary) and `palavras_sample.txt`. The sample file was made by randomly picking out 20% of the lines of the original file through the following function:"
   ]
  },
  {
   "cell_type": "code",
   "execution_count": 5,
   "metadata": {},
   "outputs": [],
   "source": [
    "def sample_file(path,new_path,percentage=.20):\n",
    "    \"\"\"Randomly selects lines from files.\n",
    "    \n",
    "    Parameters\n",
    "    ----------\n",
    "    path : str (path)\n",
    "        The path of the file to be sampled.\n",
    "    new_path : str (path)\n",
    "        The path of the file to be created with the chosen lines.\n",
    "    percentage : float (default = .20)\n",
    "        The percentage of lines to be chosen.\n",
    "    \"\"\"\n",
    "    sample = []\n",
    "    with open(path,\"r\",encoding=\"utf-8\") as file:\n",
    "        line = file.readline()\n",
    "        while line != \"\":\n",
    "            if random() < percentage: sample.append(line)\n",
    "            line = file.readline()\n",
    "    with open(new_path,\"w\",encoding=\"utf-8\") as file:\n",
    "        for item in sample: file.write(item)"
   ]
  },
  {
   "cell_type": "markdown",
   "metadata": {},
   "source": [
    "### Other functions"
   ]
  },
  {
   "cell_type": "markdown",
   "metadata": {},
   "source": [
    "In order to proceed with further testing, some functions have been created to ease the process. The function `shuffle_file`, defined below, shuffles the lines of a file in order to favor neither the `CharacterTree` nor the `RadixTree` objects."
   ]
  },
  {
   "cell_type": "code",
   "execution_count": 6,
   "metadata": {},
   "outputs": [],
   "source": [
    "def shuffle_file(path,new_path):\n",
    "    \"\"\"Randomly reorders the lines of a file and writes the result into another file.\n",
    "\n",
    "    Parameters\n",
    "    ----------\n",
    "    path : str (path)\n",
    "        The path to the file whose lines are to be randomized.\n",
    "    new_path : str (path)\n",
    "        The path in which to write the file with the already-randomized lines.\n",
    "    \"\"\"\n",
    "    with open(path, \"r\", encoding=\"utf-8\") as file: data = sorted([(random(), line) for line in file])\n",
    "    with open(new_path, \"w\", encoding=\"utf-8\") as file:\n",
    "        for _, line in data: file.write(line)"
   ]
  },
  {
   "cell_type": "markdown",
   "metadata": {},
   "source": [
    "The following function serves to read a dictionary file (one word per line) and turn it into a list, where each item is a word."
   ]
  },
  {
   "cell_type": "code",
   "execution_count": 7,
   "metadata": {},
   "outputs": [],
   "source": [
    "def dict_to_list(path):\n",
    "    \"\"\"Converts a dictionary file (one word per line) into a Python list object.\n",
    "    \n",
    "    Parameters\n",
    "    ----------\n",
    "    path : str (path)\n",
    "        The path to the dictionary file to be transformed into a Python list object.\n",
    "    \n",
    "    Returns\n",
    "    -------\n",
    "    list\n",
    "        A list where each item is a single word.\n",
    "    \"\"\"\n",
    "    with open(path, \"r\", encoding=\"utf-8\") as file:\n",
    "        return [line.strip(\"\\n\") for line in file.readlines()]"
   ]
  },
  {
   "cell_type": "markdown",
   "metadata": {},
   "source": [
    "### Loading a dictionary"
   ]
  },
  {
   "cell_type": "markdown",
   "metadata": {},
   "source": [
    "#### One time (without randomized lines)"
   ]
  },
  {
   "cell_type": "markdown",
   "metadata": {},
   "source": [
    "This process takes roughly 30 seconds in my computer; your mileage may vary."
   ]
  },
  {
   "cell_type": "markdown",
   "metadata": {},
   "source": [
    "##### `CharacterTree`"
   ]
  },
  {
   "cell_type": "code",
   "execution_count": 8,
   "metadata": {},
   "outputs": [
    {
     "name": "stdout",
     "output_type": "stream",
     "text": [
      "Executing from_dict()... Time elapsed (in seconds): 25.253722667694092\n"
     ]
    }
   ],
   "source": [
    "start_time = time()\n",
    "print(\"Executing from_dict()...\",end=\" \")\n",
    "ct_pt_br = from_dict(\"./dictionaries/palavras.txt\",\"character\")\n",
    "final_time = time() - start_time\n",
    "print(\"Time elapsed (in seconds): {}\".format(final_time))\n",
    "del(start_time,final_time)"
   ]
  },
  {
   "cell_type": "code",
   "execution_count": 9,
   "metadata": {},
   "outputs": [
    {
     "data": {
      "text/plain": [
       "<CharacterTree object>\n",
       "320140 words loaded.\n",
       "Available Initial Characters: A, B, C, D, E, F, G, H, I, J, K, L, M, N, O, P, Q, R, S, T, U, V, W, X, Y, Z, a, b, c, d, e, f, g, h, i, j, k, l, m, n, o, p, q, r, s, t, u, v, w, x, y, z, ª, µ, º, Á, Â, É, Ê, Í, Ò, Ó, Ô, Ø, Ú, à, á, â, ã, ç, é, ê, í, ó, ô, õ, ø, ú"
      ]
     },
     "execution_count": 9,
     "metadata": {},
     "output_type": "execute_result"
    }
   ],
   "source": [
    "ct_pt_br"
   ]
  },
  {
   "cell_type": "markdown",
   "metadata": {},
   "source": [
    "##### `RadixTree`"
   ]
  },
  {
   "cell_type": "code",
   "execution_count": 10,
   "metadata": {},
   "outputs": [
    {
     "name": "stdout",
     "output_type": "stream",
     "text": [
      "Executing from_dict()... Time elapsed (in seconds): 25.149322509765625\n"
     ]
    }
   ],
   "source": [
    "start_time = time()\n",
    "print(\"Executing from_dict()...\",end=\" \")\n",
    "rt_pt_br = from_dict(\"./dictionaries/palavras.txt\",\"radix\")\n",
    "final_time = time() - start_time\n",
    "print(\"Time elapsed (in seconds): {}\".format(final_time))\n",
    "del(start_time,final_time)"
   ]
  },
  {
   "cell_type": "code",
   "execution_count": 11,
   "metadata": {},
   "outputs": [
    {
     "data": {
      "text/plain": [
       "<RadixTree object>\n",
       "320140 words loaded.\n",
       "Available Initial Radices: A, B, C, D, E, F, G, H, I, J, K, L, M, N, O, P, Q, R, S, T, U, V, W, X, Y, Z, a, b, c, d, e, f, g, h, i, j, k, l, m, n, o, p, q, r, s, t, u, v, w, x, y, z, ª, µ, º, Á, Â, É, Ê, Í, Ò, Ó, Ônibus, Ø, Ú, à, á, â, ã, ç, é, ê, í, ó, ô, ões, ø, ú"
      ]
     },
     "execution_count": 11,
     "metadata": {},
     "output_type": "execute_result"
    }
   ],
   "source": [
    "rt_pt_br"
   ]
  },
  {
   "cell_type": "markdown",
   "metadata": {},
   "source": [
    "#### Multiple times (with randomized lines)"
   ]
  },
  {
   "cell_type": "code",
   "execution_count": 12,
   "metadata": {},
   "outputs": [],
   "source": [
    "repetitions = 10"
   ]
  },
  {
   "cell_type": "markdown",
   "metadata": {},
   "source": [
    "##### `CharacterTree`"
   ]
  },
  {
   "cell_type": "code",
   "execution_count": 13,
   "metadata": {},
   "outputs": [
    {
     "name": "stdout",
     "output_type": "stream",
     "text": [
      "Repetition 0... done.\n",
      "Repetition 1... done.\n",
      "Repetition 2... done.\n",
      "Repetition 3... done.\n",
      "Repetition 4... done.\n",
      "Repetition 5... done.\n",
      "Repetition 6... done.\n",
      "Repetition 7... done.\n",
      "Repetition 8... done.\n",
      "Repetition 9... done.\n",
      "\n",
      "Total repetitions: 10 | Average time elapsed per repetition (in seconds): 18.002675580978394\n"
     ]
    }
   ],
   "source": [
    "final_time = 0\n",
    "for i in range(repetitions):\n",
    "    print(\"Repetition {}...\".format(i), end=\"\")\n",
    "    shuffle_file(\"./dictionaries/palavras.txt\",\"./dictionaries/palavras_randomized.txt\")\n",
    "    start_time = time()\n",
    "    from_txt(\"./dictionaries/palavras_randomized.txt\",\"CHARACTER\")\n",
    "    final_time += time() - start_time\n",
    "    print(\" done.\")\n",
    "print(\"\\nTotal repetitions: {} | Average time elapsed per repetition (in seconds): {}\".format(repetitions, final_time/repetitions))\n",
    "del(start_time,final_time)"
   ]
  },
  {
   "cell_type": "markdown",
   "metadata": {},
   "source": [
    "##### `RadixTree`"
   ]
  },
  {
   "cell_type": "code",
   "execution_count": 14,
   "metadata": {},
   "outputs": [
    {
     "name": "stdout",
     "output_type": "stream",
     "text": [
      "Repetition 0... done.\n",
      "Repetition 1... done.\n",
      "Repetition 2... done.\n",
      "Repetition 3... done.\n",
      "Repetition 4... done.\n",
      "Repetition 5... done.\n",
      "Repetition 6... done.\n",
      "Repetition 7... done.\n",
      "Repetition 8... done.\n",
      "Repetition 9... done.\n",
      "\n",
      "Total repetitions: 10 | Average time elapsed per repetition (in seconds): 22.061322021484376\n"
     ]
    }
   ],
   "source": [
    "final_time = 0\n",
    "for i in range(repetitions):\n",
    "    print(\"Repetition {}...\".format(i), end=\"\")\n",
    "    shuffle_file(\"./dictionaries/palavras.txt\",\"./dictionaries/palavras_randomized.txt\")\n",
    "    start_time = time()\n",
    "    from_txt(\"./dictionaries/palavras_randomized.txt\",\"RADIX\")\n",
    "    final_time += time() - start_time\n",
    "    print(\" done.\")\n",
    "print(\"\\nTotal repetitions: {} | Average time elapsed per repetition (in seconds): {}\".format(repetitions, final_time/repetitions))\n",
    "del(start_time,final_time)"
   ]
  },
  {
   "cell_type": "markdown",
   "metadata": {},
   "source": [
    "### Loading a text file"
   ]
  },
  {
   "cell_type": "markdown",
   "metadata": {},
   "source": [
    "Text files can be loaded up as well! Take a look:"
   ]
  },
  {
   "cell_type": "markdown",
   "metadata": {},
   "source": [
    "#### `CharacterTree`"
   ]
  },
  {
   "cell_type": "code",
   "execution_count": 15,
   "metadata": {},
   "outputs": [
    {
     "name": "stdout",
     "output_type": "stream",
     "text": [
      "Executing from_txt()... Time elapsed (in seconds): 2.4257304668426514\n"
     ]
    }
   ],
   "source": [
    "start_time = time()\n",
    "print(\"Executing from_txt()...\",end=\" \")\n",
    "ct_constituicao = from_txt(\"./texts/constituicao.txt\",\"CHARACTER\")\n",
    "final_time = time() - start_time\n",
    "print(\"Time elapsed (in seconds): {}\".format(final_time))\n",
    "del(start_time,final_time)"
   ]
  },
  {
   "cell_type": "code",
   "execution_count": 16,
   "metadata": {},
   "outputs": [
    {
     "data": {
      "text/plain": [
       "<CharacterTree object>\n",
       "7142 words loaded.\n",
       "Available Initial Characters: A, B, C, D, E, F, G, H, I, J, K, L, M, N, O, P, Q, R, S, T, U, V, W, X, Y, Z, a, b, c, d, e, f, g, h, i, j, k, l, m, n, o, p, q, r, s, t, u, v, w, x, z, º, À, Á, Â, É, Í, à, á, â, é, í, ó, ô, ú"
      ]
     },
     "execution_count": 16,
     "metadata": {},
     "output_type": "execute_result"
    }
   ],
   "source": [
    "ct_constituicao"
   ]
  },
  {
   "cell_type": "markdown",
   "metadata": {},
   "source": [
    "#### `RadixTree`"
   ]
  },
  {
   "cell_type": "code",
   "execution_count": 17,
   "metadata": {},
   "outputs": [
    {
     "name": "stdout",
     "output_type": "stream",
     "text": [
      "Executing from_txt()... Time elapsed (in seconds): 4.272570610046387\n"
     ]
    }
   ],
   "source": [
    "start_time = time()\n",
    "print(\"Executing from_txt()...\",end=\" \")\n",
    "rt_constituicao = from_txt(\"./texts/constituicao.txt\",\"RADIX\")\n",
    "final_time = time() - start_time\n",
    "print(\"Time elapsed (in seconds): {}\".format(final_time))\n",
    "del(start_time,final_time)"
   ]
  },
  {
   "cell_type": "code",
   "execution_count": 18,
   "metadata": {},
   "outputs": [
    {
     "data": {
      "text/plain": [
       "<RadixTree object>\n",
       "7133 words loaded.\n",
       "Available Initial Radices: A, B, C, D, E, F, G, H, I, J, K, L, M, N, O, P, Qu, R, S, T, U, V, W, X, Yunes, Z, a, b, c, d, e, f, g, h, i, j, k, l, m, n, o, p, q, r, s, t, u, v, w, x, z, º, À, Á, Ângelo, É, Í, à, á, âmbito, é, índi, ó, ônus, ú"
      ]
     },
     "execution_count": 18,
     "metadata": {},
     "output_type": "execute_result"
    }
   ],
   "source": [
    "rt_constituicao"
   ]
  },
  {
   "cell_type": "markdown",
   "metadata": {},
   "source": [
    "### Spell-checking dictionary sample"
   ]
  },
  {
   "cell_type": "markdown",
   "metadata": {},
   "source": [
    "`CharacterTree.check(path)` is set to return a list containing only the misspelled words (or the words not loaded in the dictionary). It is important to notice, however, that since `palavras.txt`, although contains words separated by `\\n`, some of the words contained in some lines contain spaces, for whatever reason. As such, since they some times are not in the dictionary by themselves, but rather together in a composed word, they might be returned even though they are correctly written."
   ]
  },
  {
   "cell_type": "code",
   "execution_count": 19,
   "metadata": {},
   "outputs": [
    {
     "name": "stdout",
     "output_type": "stream",
     "text": [
      "0 incorrect words found in the CharacterTree: []\n",
      "0 incorrect words found in the RadixTree: []\n"
     ]
    }
   ],
   "source": [
    "ct_misspellings, rt_misspellings = ct_pt_br.check(\"./dictionaries/palavras_sample.txt\"), rt_pt_br.check(\"./dictionaries/palavras_sample.txt\")\n",
    "print(\"{} incorrect words found in the CharacterTree: {}\".format(len(ct_misspellings), ct_misspellings))\n",
    "print(\"{} incorrect words found in the RadixTree: {}\".format(len(rt_misspellings), rt_misspellings))"
   ]
  },
  {
   "cell_type": "markdown",
   "metadata": {},
   "source": [
    "### Checking words in the dictionary"
   ]
  },
  {
   "cell_type": "markdown",
   "metadata": {},
   "source": [
    "The following mode was created to see how much time it would take to see if a bunch of words is in the Tree objects or not."
   ]
  },
  {
   "cell_type": "code",
   "execution_count": 20,
   "metadata": {},
   "outputs": [],
   "source": [
    "words_to_check = 1000"
   ]
  },
  {
   "cell_type": "markdown",
   "metadata": {},
   "source": [
    "#### `CharacterTree`"
   ]
  },
  {
   "cell_type": "code",
   "execution_count": 21,
   "metadata": {},
   "outputs": [
    {
     "name": "stdout",
     "output_type": "stream",
     "text": [
      "Number of checked words: 1000 | Average Check Time (in seconds): 8.574795722961426e-05\n"
     ]
    }
   ],
   "source": [
    "final_time = 0\n",
    "pt_br = dict_to_list(\"./dictionaries/palavras_randomized.txt\")\n",
    "\n",
    "for i in range(words_to_check):\n",
    "    word_to_check = pt_br.pop()\n",
    "    start_time = time()\n",
    "    word_to_check in ct_pt_br\n",
    "    final_time += time() - start_time\n",
    "\n",
    "print(\"Number of checked words: {} | Average Check Time (in seconds): {}\".format(words_to_check, final_time/words_to_check))"
   ]
  },
  {
   "cell_type": "markdown",
   "metadata": {},
   "source": [
    "#### `RadixTree`"
   ]
  },
  {
   "cell_type": "code",
   "execution_count": 22,
   "metadata": {},
   "outputs": [
    {
     "name": "stdout",
     "output_type": "stream",
     "text": [
      "Number of checked words: 1000 | Average Check Time (in seconds): 5.086326599121094e-05\n"
     ]
    }
   ],
   "source": [
    "final_time = 0\n",
    "pt_br = dict_to_list(\"./dictionaries/palavras_randomized.txt\")\n",
    "\n",
    "for i in range(words_to_check):\n",
    "    word_to_check = pt_br.pop()\n",
    "    start_time = time()\n",
    "    word_to_check in rt_pt_br\n",
    "    final_time += time() - start_time\n",
    "\n",
    "print(\"Number of checked words: {} | Average Check Time (in seconds): {}\".format(words_to_check, final_time/words_to_check))"
   ]
  },
  {
   "cell_type": "markdown",
   "metadata": {},
   "source": [
    "### Removing random words from the dictionary"
   ]
  },
  {
   "cell_type": "markdown",
   "metadata": {},
   "source": [
    "The following code was created to see how much time it would take to remove a bunch of words."
   ]
  },
  {
   "cell_type": "code",
   "execution_count": 23,
   "metadata": {},
   "outputs": [],
   "source": [
    "words_to_remove = 1000"
   ]
  },
  {
   "cell_type": "markdown",
   "metadata": {},
   "source": [
    "#### `CharacterTree`"
   ]
  },
  {
   "cell_type": "code",
   "execution_count": 24,
   "metadata": {},
   "outputs": [
    {
     "name": "stdout",
     "output_type": "stream",
     "text": [
      "Number of removed words: 1000 | Average Removal Time (in seconds): 6.0839176177978515e-05\n"
     ]
    }
   ],
   "source": [
    "final_time = 0\n",
    "pt_br = dict_to_list(\"./dictionaries/palavras_randomized.txt\")\n",
    "\n",
    "for i in range(words_to_remove):\n",
    "    word_to_remove = pt_br.pop()\n",
    "    start_time = time()\n",
    "    try: ct_pt_br.remove(word_to_remove)\n",
    "    except: pass\n",
    "    final_time += time() - start_time\n",
    "\n",
    "print(\"Number of removed words: {} | Average Removal Time (in seconds): {}\".format(words_to_remove, final_time/words_to_remove))"
   ]
  },
  {
   "cell_type": "markdown",
   "metadata": {},
   "source": [
    "#### `RadixTree`"
   ]
  },
  {
   "cell_type": "code",
   "execution_count": 25,
   "metadata": {},
   "outputs": [
    {
     "name": "stdout",
     "output_type": "stream",
     "text": [
      "Number of removed words: 1000 | Average Removal Time (in seconds): 5.984091758728028e-05\n"
     ]
    }
   ],
   "source": [
    "final_time = 0\n",
    "pt_br = dict_to_list(\"./dictionaries/palavras_randomized.txt\")\n",
    "\n",
    "for i in range(words_to_remove):\n",
    "    word_to_remove = pt_br.pop()\n",
    "    start_time = time()\n",
    "    try: rt_pt_br.remove(word_to_remove)\n",
    "    except: pass\n",
    "    final_time += time() - start_time\n",
    "\n",
    "print(\"Number of removed words: {} | Average Removal Time (in seconds): {}\".format(words_to_remove, final_time/words_to_remove))"
   ]
  }
 ],
 "metadata": {
  "kernelspec": {
   "display_name": "Python 3",
   "language": "python",
   "name": "python3"
  },
  "language_info": {
   "codemirror_mode": {
    "name": "ipython",
    "version": 3
   },
   "file_extension": ".py",
   "mimetype": "text/x-python",
   "name": "python",
   "nbconvert_exporter": "python",
   "pygments_lexer": "ipython3",
   "version": "3.7.3"
  }
 },
 "nbformat": 4,
 "nbformat_minor": 2
}
